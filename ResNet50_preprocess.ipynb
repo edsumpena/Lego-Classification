{
 "cells": [
  {
   "cell_type": "code",
   "execution_count": 12,
   "metadata": {},
   "outputs": [],
   "source": [
    "# display, transform, read, split ...\n",
    "import numpy as np\n",
    "import cv2 as cv\n",
    "import os\n",
    "import splitfolders\n",
    "import matplotlib.pyplot as plt\n",
    "\n",
    "# tensorflow\n",
    "import tensorflow.keras as keras\n",
    "import tensorflow as tf\n",
    "\n",
    "# image processing\n",
    "from tensorflow.keras.preprocessing import image\n",
    "from tensorflow.keras.preprocessing.image import ImageDataGenerator, load_img\n",
    "\n",
    "# model / neural network\n",
    "from tensorflow.keras import layers\n",
    "from tensorflow.keras.models import Sequential, Model\n",
    "from tensorflow.keras.applications import ResNet50\n",
    "from tensorflow.keras.applications.resnet50 import preprocess_input"
   ]
  },
  {
   "cell_type": "code",
   "execution_count": 13,
   "metadata": {},
   "outputs": [],
   "source": [
    "# # split data in a new folder named data-split\n",
    "# path = r\"C:\\Users\\bosen\\Documents\\CV_LEGO\\10\"\n",
    "# splitfolders.ratio(path, output=\"data-10\", seed=1337, ratio=(0.7, 0.2, 0.1), group_prefix=None, move=False)"
   ]
  },
  {
   "cell_type": "code",
   "execution_count": 14,
   "metadata": {},
   "outputs": [],
   "source": [
    "datagen_default = ImageDataGenerator()"
   ]
  },
  {
   "cell_type": "code",
   "execution_count": 28,
   "metadata": {},
   "outputs": [],
   "source": [
    "datagen = ImageDataGenerator(\n",
    "    rotation_range=20,         # randomly rotate images in the range (degrees)\n",
    "    width_shift_range=0.2,     # randomly shift images horizontally (fraction of total width)\n",
    "    height_shift_range=0.2,    # randomly shift images vertically (fraction of total height)\n",
    "    shear_range=0.2,           # shear intensity (shear angle in radians)\n",
    "    fill_mode='nearest'        # strategy used for filling in newly created pixels after rotation or shifting\n",
    ")"
   ]
  },
  {
   "cell_type": "code",
   "execution_count": 29,
   "metadata": {},
   "outputs": [],
   "source": [
    "# define classes name\n",
    "class_names = [r'2357',r'2412b',r'2420',r'2429',r'2430',r'2431',r'2432',r'2436',r'2445',r'2450']"
   ]
  },
  {
   "cell_type": "code",
   "execution_count": 30,
   "metadata": {},
   "outputs": [
    {
     "name": "stdout",
     "output_type": "stream",
     "text": [
      "Found 28000 images belonging to 10 classes.\n"
     ]
    }
   ],
   "source": [
    "# training data\n",
    "train_generator = datagen.flow_from_directory( \n",
    "    directory=r\"C:\\Users\\bosen\\Documents\\CV_LEGO\\data-10\\train\", \n",
    "    classes = class_names,\n",
    "    target_size=(64, 64),  \n",
    "    batch_size=64, \n",
    "    class_mode=\"binary\", \n",
    ")"
   ]
  },
  {
   "cell_type": "code",
   "execution_count": 31,
   "metadata": {},
   "outputs": [
    {
     "name": "stdout",
     "output_type": "stream",
     "text": [
      "Found 8000 images belonging to 10 classes.\n"
     ]
    }
   ],
   "source": [
    "# validation data\n",
    "valid_generator = datagen_default.flow_from_directory( \n",
    "    directory=r\"C:\\Users\\bosen\\Documents\\CV_LEGO\\data-10\\val\", \n",
    "    classes = class_names,\n",
    "    target_size=(64, 64), \n",
    "    batch_size=64, \n",
    "    class_mode=\"binary\", \n",
    ")"
   ]
  },
  {
   "cell_type": "code",
   "execution_count": 32,
   "metadata": {},
   "outputs": [
    {
     "name": "stdout",
     "output_type": "stream",
     "text": [
      "Found 4000 images belonging to 10 classes.\n"
     ]
    }
   ],
   "source": [
    "# test data\n",
    "test_generator = datagen_default.flow_from_directory( \n",
    "    directory=r\"C:\\Users\\bosen\\Documents\\CV_LEGO\\data-10\\test\", \n",
    "    classes = class_names,\n",
    "    target_size=(64, 64), \n",
    "    batch_size=64, \n",
    "    class_mode=\"binary\", \n",
    ")"
   ]
  },
  {
   "cell_type": "code",
   "execution_count": 33,
   "metadata": {},
   "outputs": [],
   "source": [
    "# ResNet50 model\n",
    "resnet_50 = ResNet50(include_top=False, weights='imagenet', input_shape=(64,64,3))\n",
    "for layer in resnet_50.layers:\n",
    "    layer.trainable = False"
   ]
  },
  {
   "cell_type": "code",
   "execution_count": 34,
   "metadata": {},
   "outputs": [],
   "source": [
    "# build the entire model\n",
    "x = resnet_50.output\n",
    "x = layers.GlobalAveragePooling2D()(x)\n",
    "x = layers.Dense(512, activation='relu')(x) \n",
    "x = layers.Dropout(0.5)(x)\n",
    "x = layers.Dense(256, activation='relu')(x) \n",
    "x = layers.Dropout(0.5)(x)\n",
    "x = layers.Dense(128, activation='relu')(x) \n",
    "x = layers.Dropout(0.5)(x)\n",
    "x = layers.Dense(64, activation='relu')(x) \n",
    "x = layers.Dropout(0.5)(x)\n",
    "predictions = layers.Dense(10, activation='softmax')(x)\n",
    "model = Model(inputs = resnet_50.input, outputs = predictions)"
   ]
  },
  {
   "cell_type": "code",
   "execution_count": 35,
   "metadata": {},
   "outputs": [],
   "source": [
    "# define training function\n",
    "def trainModel(model, epochs, optimizer):\n",
    "    batch_size = 64\n",
    "    model.compile(optimizer=optimizer, loss=\"sparse_categorical_crossentropy\", metrics=[\"accuracy\"])\n",
    "    return model.fit(train_generator, validation_data=valid_generator, epochs=epochs, batch_size=batch_size)"
   ]
  },
  {
   "cell_type": "code",
   "execution_count": 36,
   "metadata": {},
   "outputs": [
    {
     "name": "stdout",
     "output_type": "stream",
     "text": [
      "Epoch 1/10\n",
      "438/438 [==============================] - 236s 524ms/step - loss: 2.2017 - accuracy: 0.2258 - val_loss: 1.4217 - val_accuracy: 0.5141\n",
      "Epoch 2/10\n",
      "438/438 [==============================] - 167s 381ms/step - loss: 1.5400 - accuracy: 0.4290 - val_loss: 1.1694 - val_accuracy: 0.5763\n",
      "Epoch 3/10\n",
      "438/438 [==============================] - 168s 382ms/step - loss: 1.3846 - accuracy: 0.4816 - val_loss: 1.0678 - val_accuracy: 0.5864\n",
      "Epoch 4/10\n",
      "438/438 [==============================] - 177s 403ms/step - loss: 1.2820 - accuracy: 0.5288 - val_loss: 1.0184 - val_accuracy: 0.6008\n",
      "Epoch 5/10\n",
      "438/438 [==============================] - 173s 394ms/step - loss: 1.2149 - accuracy: 0.5560 - val_loss: 0.9316 - val_accuracy: 0.6538\n",
      "Epoch 6/10\n",
      "438/438 [==============================] - 915s 2s/step - loss: 1.1652 - accuracy: 0.5753 - val_loss: 0.9093 - val_accuracy: 0.6675\n",
      "Epoch 7/10\n",
      "438/438 [==============================] - 243s 555ms/step - loss: 1.1142 - accuracy: 0.5928 - val_loss: 0.8763 - val_accuracy: 0.6860\n",
      "Epoch 8/10\n",
      "438/438 [==============================] - 240s 547ms/step - loss: 1.0988 - accuracy: 0.5998 - val_loss: 0.8623 - val_accuracy: 0.6749\n",
      "Epoch 9/10\n",
      "438/438 [==============================] - 241s 550ms/step - loss: 1.0761 - accuracy: 0.6098 - val_loss: 0.8549 - val_accuracy: 0.6810\n",
      "Epoch 10/10\n",
      "438/438 [==============================] - 239s 546ms/step - loss: 1.0490 - accuracy: 0.6219 - val_loss: 0.8392 - val_accuracy: 0.7001\n"
     ]
    }
   ],
   "source": [
    "# launch the training\n",
    "model_history = trainModel(model = model, epochs = 10, optimizer = \"Adam\")"
   ]
  },
  {
   "cell_type": "code",
   "execution_count": 37,
   "metadata": {},
   "outputs": [
    {
     "data": {
      "image/png": "[encoded data removed]",
      "text/plain": [
       "<Figure size 640x480 with 1 Axes>"
      ]
     },
     "metadata": {},
     "output_type": "display_data"
    }
   ],
   "source": [
    "loss_train_curve = model_history.history[\"loss\"]\n",
    "loss_val_curve = model_history.history[\"val_loss\"]\n",
    "plt.plot(loss_train_curve, label = \"Train\")\n",
    "plt.plot(loss_val_curve, label = \"Validation\")\n",
    "plt.legend(loc = 'upper right')\n",
    "plt.title(\"Loss\")\n",
    "plt.show()"
   ]
  },
  {
   "cell_type": "code",
   "execution_count": 38,
   "metadata": {},
   "outputs": [
    {
     "data": {
      "image/png": "[encoded data removed]",
      "text/plain": [
       "<Figure size 640x480 with 1 Axes>"
      ]
     },
     "metadata": {},
     "output_type": "display_data"
    }
   ],
   "source": [
    "acc_train_curve = model_history.history[\"accuracy\"]\n",
    "acc_val_curve = model_history.history[\"val_accuracy\"]\n",
    "plt.plot(acc_train_curve, label = \"Train\")\n",
    "plt.plot(acc_val_curve, label = \"Validation\")\n",
    "plt.legend(loc = 'lower right')\n",
    "plt.title(\"Accuracy\")\n",
    "plt.show()"
   ]
  },
  {
   "cell_type": "code",
   "execution_count": 41,
   "metadata": {},
   "outputs": [
    {
     "name": "stdout",
     "output_type": "stream",
     "text": [
      "63/63 [==============================] - 29s 440ms/step - loss: 0.8266 - accuracy: 0.7135\n",
      "The test loss is:  0.826629638671875\n",
      "The best accuracy is:  71.35000228881836\n"
     ]
    }
   ],
   "source": [
    "test_loss, test_acc = model.evaluate(test_generator)\n",
    "print(\"The test loss is: \", test_loss)\n",
    "print(\"The best accuracy is: \", test_acc*100)"
   ]
  },
  {
   "cell_type": "code",
   "execution_count": 40,
   "metadata": {},
   "outputs": [
    {
     "name": "stdout",
     "output_type": "stream",
     "text": [
      "INFO:tensorflow:Assets written to: C:\\Users\\bosen\\Documents\\CV_LEGO\\models\\resnet_default_preprocessing\\assets\n"
     ]
    },
    {
     "name": "stderr",
     "output_type": "stream",
     "text": [
      "INFO:tensorflow:Assets written to: C:\\Users\\bosen\\Documents\\CV_LEGO\\models\\resnet_default_preprocessing\\assets\n"
     ]
    }
   ],
   "source": [
    "model.save(r\"C:\\Users\\bosen\\Documents\\CV_LEGO\\models\\resnet_default_preprocessing\")"
   ]
  },
  {
   "cell_type": "markdown",
   "metadata": {},
   "source": [
    "250/250 [==============================] - 151s 603ms/step - loss: 0.7570 - accuracy: 0.7278\r\n",
    "The test loss is:  0.7569540739059488\r\n",
    "The best accuracy is:  72.775000333786\n",
    "\n",
    "63/63 [==============================] - 27s 427ms/step - loss: 0.8022 - accuracy: 0.7168\r\n",
    "The test loss is:  0.8021820783615112\r\n",
    "The best accuracy is:  71.6750025749206501"
   ]
  },
  {
   "cell_type": "code",
   "execution_count": null,
   "metadata": {},
   "outputs": [],
   "source": []
  }
 ],
 "metadata": {
  "kernelspec": {
   "display_name": "Python 3 (ipykernel)",
   "language": "python",
   "name": "python3"
  },
  "language_info": {
   "codemirror_mode": {
    "name": "ipython",
    "version": 3
   },
   "file_extension": ".py",
   "mimetype": "text/x-python",
   "name": "python",
   "nbconvert_exporter": "python",
   "pygments_lexer": "ipython3",
   "version": "3.9.13"
  }
 },
 "nbformat": 4,
 "nbformat_minor": 4
}
